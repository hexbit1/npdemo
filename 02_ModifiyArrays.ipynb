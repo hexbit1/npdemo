{
 "cells": [
  {
   "cell_type": "markdown",
   "metadata": {},
   "source": [
    "### Take Away Points\n",
    "- NumPy Arrays are **mutable**"
   ]
  },
  {
   "cell_type": "code",
   "execution_count": 36,
   "metadata": {},
   "outputs": [],
   "source": [
    "import numpy as np"
   ]
  },
  {
   "cell_type": "code",
   "execution_count": 37,
   "metadata": {},
   "outputs": [
    {
     "name": "stdout",
     "output_type": "stream",
     "text": [
      "[1 2 3 4 5]\n",
      "4\n",
      "5\n"
     ]
    }
   ],
   "source": [
    "a1 = np.array([1,2,3,4,5])\n",
    "print(a1)\n",
    "# Access by indexing\n",
    "print(a1[3])\n",
    "# Access by -ve indexing\n",
    "print(a1[-1])"
   ]
  },
  {
   "cell_type": "code",
   "execution_count": 38,
   "metadata": {},
   "outputs": [
    {
     "name": "stdout",
     "output_type": "stream",
     "text": [
      "[ 1  2  3  4 60]\n",
      "[100   2   3   4  60]\n"
     ]
    }
   ],
   "source": [
    "# Modify an array element\n",
    "a1[4] = 60\n",
    "print(a1)\n",
    "a1[-5] = 100\n",
    "print(a1)"
   ]
  },
  {
   "cell_type": "code",
   "execution_count": 39,
   "metadata": {},
   "outputs": [
    {
     "name": "stdout",
     "output_type": "stream",
     "text": [
      "[[1 2 3]\n",
      " [4 5 6]\n",
      " [7 8 9]]\n",
      "6\n",
      "[[  1   2   3]\n",
      " [  4   5   6]\n",
      " [  7 100   9]]\n"
     ]
    }
   ],
   "source": [
    "# Accesing/Modifying rank 2 (i.e 2D) Arrays --> [row,column]\n",
    "d = np.array([[1,2,3], [4,5,6], [7,8,9]])\n",
    "print(d)\n",
    "# 2 row 3 element\n",
    "print(d[1,2])\n",
    "d[2,1] = 100\n",
    "print(d)"
   ]
  },
  {
   "cell_type": "code",
   "execution_count": 41,
   "metadata": {},
   "outputs": [
    {
     "name": "stdout",
     "output_type": "stream",
     "text": [
      "[100   2   3   4  60]\n",
      "[100   2   3   4  60]\n",
      "[2 3 4]\n"
     ]
    }
   ],
   "source": [
    "# Deleting the elements np.delete(ndarray, element_indexes, axis)\n",
    "print(a1)\n",
    "#delete 1st and last element\n",
    "b1 = np.delete(a1, [0,4])\n",
    "print(a1)\n",
    "print(b1)"
   ]
  },
  {
   "cell_type": "code",
   "execution_count": 46,
   "metadata": {},
   "outputs": [
    {
     "name": "stdout",
     "output_type": "stream",
     "text": [
      "[[  1   2   3]\n",
      " [  4   5   6]\n",
      " [  7 100   9]]\n",
      "[[4 5 6]]\n",
      "[[  2]\n",
      " [  5]\n",
      " [100]]\n"
     ]
    }
   ],
   "source": [
    "# Deleting from 2 D arrays\n",
    "print(d)\n",
    "dl = np.delete(d, [0,2], 0)\n",
    "print(dl)\n",
    "dl2 = np.delete(d, [0,2], 1)\n",
    "print(dl2)"
   ]
  },
  {
   "cell_type": "code",
   "execution_count": 51,
   "metadata": {},
   "outputs": [
    {
     "name": "stdout",
     "output_type": "stream",
     "text": [
      "[100   2   3   4  60  20]\n",
      "[100   2   3   4  60  20  20]\n",
      "[100   2   3   4  60  20  40  80]\n"
     ]
    }
   ],
   "source": [
    "# Append to arrays 1 D\n",
    "print(a1)\n",
    "a2 = np.append(a1, [20])\n",
    "print(a2)\n",
    "a3 = np.append(a1, [40, 80])\n",
    "print(a3)"
   ]
  },
  {
   "cell_type": "code",
   "execution_count": 65,
   "metadata": {},
   "outputs": [
    {
     "name": "stdout",
     "output_type": "stream",
     "text": [
      "[[  1   2   3]\n",
      " [  4   5   6]\n",
      " [  7 100   9]]\n",
      "[[  1   2   3]\n",
      " [  4   5   6]\n",
      " [  7 100   9]\n",
      " [400 200  40]\n",
      " [200 300 800]]\n",
      "[[  1   2   3 400]\n",
      " [  4   5   6 200]\n",
      " [  7 100   9  40]]\n"
     ]
    }
   ],
   "source": [
    "# Append to Rank 2 Arrays\n",
    "print(d)\n",
    "d1 = np.append(d, [[400, 200, 40], [200, 300, 800]], 0)\n",
    "print(d1)\n",
    "# Not clear how I can add multiple columns\n",
    "d1 = np.append(d, [[400], [200], [40]], 1)\n",
    "print(d1)"
   ]
  },
  {
   "cell_type": "code",
   "execution_count": 69,
   "metadata": {},
   "outputs": [
    {
     "name": "stdout",
     "output_type": "stream",
     "text": [
      "[100   2   3   4  60  20]\n",
      "[100   2   3   6   7   4  60  20]\n"
     ]
    }
   ],
   "source": [
    "# Inserting elements in middle (appned allows only at ends)\n",
    "print(a1)\n",
    "# insert 6,7 between 3rd and 4th element\n",
    "a2 = np.insert(a1, 3, [6,7])\n",
    "print(a2)"
   ]
  },
  {
   "cell_type": "code",
   "execution_count": 77,
   "metadata": {},
   "outputs": [
    {
     "name": "stdout",
     "output_type": "stream",
     "text": [
      "[[  1   2   3]\n",
      " [  4   5   6]\n",
      " [  7 100   9]]\n",
      "[[  1   2   3]\n",
      " [390 440 660]\n",
      " [ 44  33  22]\n",
      " [  4   5   6]\n",
      " [  7 100   9]]\n",
      "[[  1   3   2   3]\n",
      " [  4   3   5   6]\n",
      " [  7   3 100   9]]\n"
     ]
    }
   ],
   "source": [
    "# Inserting for multio dimensional\n",
    "print(d)\n",
    "\n",
    "# Insert a 2nd row of element 390, 440, 660\n",
    "d1 = np.insert(d, 1, [[390,440, 660], [44, 33, 22]], 0)\n",
    "print(d1)\n",
    "\n",
    "d2 = np.insert(d, 1, 3, 1)\n",
    "print(d2)\n"
   ]
  }
 ],
 "metadata": {
  "kernelspec": {
   "display_name": "Python 3",
   "language": "python",
   "name": "python3"
  },
  "language_info": {
   "codemirror_mode": {
    "name": "ipython",
    "version": 3
   },
   "file_extension": ".py",
   "mimetype": "text/x-python",
   "name": "python",
   "nbconvert_exporter": "python",
   "pygments_lexer": "ipython3",
   "version": "3.6.8"
  }
 },
 "nbformat": 4,
 "nbformat_minor": 2
}
