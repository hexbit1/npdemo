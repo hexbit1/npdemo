{
 "cells": [
  {
   "cell_type": "code",
   "execution_count": 19,
   "metadata": {},
   "outputs": [
    {
     "name": "stdout",
     "output_type": "stream",
     "text": [
      "[1 2 3]\n"
     ]
    }
   ],
   "source": [
    "import numpy as np\n",
    "x = np.array([1,2,3])\n",
    "print(x)"
   ]
  },
  {
   "cell_type": "code",
   "execution_count": 20,
   "metadata": {},
   "outputs": [
    {
     "name": "stdout",
     "output_type": "stream",
     "text": [
      "<class 'numpy.ndarray'>\n",
      "(3,)\n",
      "int32\n"
     ]
    }
   ],
   "source": [
    "print(type(x))\n",
    "print(x.shape)\n",
    "print(x.dtype)"
   ]
  },
  {
   "cell_type": "code",
   "execution_count": 21,
   "metadata": {},
   "outputs": [
    {
     "name": "stdout",
     "output_type": "stream",
     "text": [
      "<U6\n"
     ]
    }
   ],
   "source": [
    "st = np.array(['hello','massu', '5wordl'])\n",
    "print(st.dtype)"
   ]
  },
  {
   "cell_type": "code",
   "execution_count": 22,
   "metadata": {},
   "outputs": [
    {
     "name": "stdout",
     "output_type": "stream",
     "text": [
      "[[1 2 3]\n",
      " [2 3 4]\n",
      " [1 2 4]]\n",
      "(3, 3)\n",
      "int32\n"
     ]
    }
   ],
   "source": [
    "r2 = np.array([[1,2,3], [2, 3, 4], [1,2, 4]])\n",
    "print(r2)\n",
    "print(r2.shape)\n",
    "print(r2.dtype)"
   ]
  },
  {
   "cell_type": "code",
   "execution_count": 23,
   "metadata": {},
   "outputs": [
    {
     "name": "stdout",
     "output_type": "stream",
     "text": [
      "[ 1.   2.   3.2]\n",
      "float64\n"
     ]
    }
   ],
   "source": [
    "m = np.array([1,2,3.2])\n",
    "print(m)\n",
    "print(m.dtype)"
   ]
  },
  {
   "cell_type": "code",
   "execution_count": 24,
   "metadata": {
    "scrolled": true
   },
   "outputs": [
    {
     "name": "stdout",
     "output_type": "stream",
     "text": [
      "[1 2 3]\n",
      "int32\n"
     ]
    }
   ],
   "source": [
    "m1 = np.array([1,2, 3.4], dtype = np.int32)\n",
    "print(m1)\n",
    "print(m1.dtype)"
   ]
  },
  {
   "cell_type": "code",
   "execution_count": 25,
   "metadata": {},
   "outputs": [],
   "source": [
    "np.save('myf',r2)"
   ]
  },
  {
   "cell_type": "code",
   "execution_count": 26,
   "metadata": {},
   "outputs": [
    {
     "name": "stdout",
     "output_type": "stream",
     "text": [
      "[[1 2 3]\n",
      " [2 3 4]\n",
      " [1 2 4]]\n"
     ]
    }
   ],
   "source": [
    "l = np.load('myf.npy')\n",
    "print(l)"
   ]
  },
  {
   "cell_type": "markdown",
   "metadata": {},
   "source": [
    "## Creating Arrays using NP functions"
   ]
  },
  {
   "cell_type": "code",
   "execution_count": 28,
   "metadata": {},
   "outputs": [
    {
     "name": "stdout",
     "output_type": "stream",
     "text": [
      "[[ 0.  0.  0.]\n",
      " [ 0.  0.  0.]\n",
      " [ 0.  0.  0.]\n",
      " [ 0.  0.  0.]]\n"
     ]
    }
   ],
   "source": [
    "# Zeros\n",
    "z = np.zeros((4,3))\n",
    "print(z)"
   ]
  },
  {
   "cell_type": "code",
   "execution_count": 31,
   "metadata": {},
   "outputs": [
    {
     "name": "stdout",
     "output_type": "stream",
     "text": [
      "[[ 1.  1.  1.  1.  1.  1.  1.  1.  1.  1.]\n",
      " [ 1.  1.  1.  1.  1.  1.  1.  1.  1.  1.]]\n"
     ]
    }
   ],
   "source": [
    "# Ones\n",
    "o = np.ones((2,10))\n",
    "print(o)"
   ]
  },
  {
   "cell_type": "code",
   "execution_count": 35,
   "metadata": {},
   "outputs": [
    {
     "name": "stdout",
     "output_type": "stream",
     "text": [
      "[[2 2 2 2]\n",
      " [2 2 2 2]\n",
      " [2 2 2 2]\n",
      " [2 2 2 2]]\n"
     ]
    }
   ],
   "source": [
    "# full\n",
    "f = np.full((4,4),2)\n",
    "print(f)"
   ]
  },
  {
   "cell_type": "markdown",
   "metadata": {},
   "source": [
    "#### Identity Matrix\n",
    "1. Always a SQuare\n",
    "2. Has ones in its digonal"
   ]
  },
  {
   "cell_type": "code",
   "execution_count": 39,
   "metadata": {},
   "outputs": [
    {
     "name": "stdout",
     "output_type": "stream",
     "text": [
      "[[1 0 0 0]\n",
      " [0 1 0 0]\n",
      " [0 0 1 0]\n",
      " [0 0 0 1]]\n"
     ]
    }
   ],
   "source": [
    "# eye\n",
    "i = np.eye(4, dtype = np.int32)\n",
    "print(i)"
   ]
  },
  {
   "cell_type": "code",
   "execution_count": 46,
   "metadata": {},
   "outputs": [
    {
     "name": "stdout",
     "output_type": "stream",
     "text": [
      "[[10  0  0]\n",
      " [ 0 12  0]\n",
      " [ 0  0 44]]\n"
     ]
    }
   ],
   "source": [
    "# diag\n",
    "d = np.diag([10, 12, 44])\n",
    "print(d)"
   ]
  },
  {
   "cell_type": "code",
   "execution_count": 50,
   "metadata": {},
   "outputs": [
    {
     "name": "stdout",
     "output_type": "stream",
     "text": [
      "[0 1 2 3 4 5 6 7 8 9]\n",
      "[5 7 9]\n"
     ]
    }
   ],
   "source": [
    "# arange\n",
    "ra = np.arange(10)\n",
    "print(ra)\n",
    "ra2 = np.arange(5, 10, 2)\n",
    "print(ra2)\n"
   ]
  },
  {
   "cell_type": "code",
   "execution_count": 54,
   "metadata": {},
   "outputs": [
    {
     "name": "stdout",
     "output_type": "stream",
     "text": [
      "[  5.           5.05050505   5.1010101    5.15151515   5.2020202\n",
      "   5.25252525   5.3030303    5.35353535   5.4040404    5.45454545\n",
      "   5.50505051   5.55555556   5.60606061   5.65656566   5.70707071\n",
      "   5.75757576   5.80808081   5.85858586   5.90909091   5.95959596\n",
      "   6.01010101   6.06060606   6.11111111   6.16161616   6.21212121\n",
      "   6.26262626   6.31313131   6.36363636   6.41414141   6.46464646\n",
      "   6.51515152   6.56565657   6.61616162   6.66666667   6.71717172\n",
      "   6.76767677   6.81818182   6.86868687   6.91919192   6.96969697\n",
      "   7.02020202   7.07070707   7.12121212   7.17171717   7.22222222\n",
      "   7.27272727   7.32323232   7.37373737   7.42424242   7.47474747\n",
      "   7.52525253   7.57575758   7.62626263   7.67676768   7.72727273\n",
      "   7.77777778   7.82828283   7.87878788   7.92929293   7.97979798\n",
      "   8.03030303   8.08080808   8.13131313   8.18181818   8.23232323\n",
      "   8.28282828   8.33333333   8.38383838   8.43434343   8.48484848\n",
      "   8.53535354   8.58585859   8.63636364   8.68686869   8.73737374\n",
      "   8.78787879   8.83838384   8.88888889   8.93939394   8.98989899\n",
      "   9.04040404   9.09090909   9.14141414   9.19191919   9.24242424\n",
      "   9.29292929   9.34343434   9.39393939   9.44444444   9.49494949\n",
      "   9.54545455   9.5959596    9.64646465   9.6969697    9.74747475\n",
      "   9.7979798    9.84848485   9.8989899    9.94949495  10.        ]\n"
     ]
    }
   ],
   "source": [
    "# Use linspace() for floats\n",
    "fl = np.linspace(5, 10, 100)\n",
    "print(fl)"
   ]
  },
  {
   "cell_type": "code",
   "execution_count": 57,
   "metadata": {},
   "outputs": [
    {
     "name": "stdout",
     "output_type": "stream",
     "text": [
      "[[ 1  2  3  4  5]\n",
      " [ 6  7  8  9 10]]\n"
     ]
    }
   ],
   "source": [
    "# reshape()\n",
    "s = np.array([1,2,3,4,5,6,7,8,9,10])\n",
    "rs = np.reshape(s, (2,5))\n",
    "print(rs)"
   ]
  },
  {
   "cell_type": "code",
   "execution_count": 69,
   "metadata": {},
   "outputs": [
    {
     "name": "stdout",
     "output_type": "stream",
     "text": [
      "[[ 10.   10.1  10.2  10.3]\n",
      " [ 10.4  10.5  10.6  10.7]\n",
      " [ 10.8  10.9  11.   11.1]\n",
      " [ 11.2  11.3  11.4  11.5]\n",
      " [ 11.6  11.7  11.8  11.9]]\n"
     ]
    }
   ],
   "source": [
    "# appending functions\n",
    "ap = np.linspace(10, 12, 20, endpoint=False).reshape((5,4))\n",
    "print(ap)"
   ]
  },
  {
   "cell_type": "code",
   "execution_count": 72,
   "metadata": {},
   "outputs": [
    {
     "name": "stdout",
     "output_type": "stream",
     "text": [
      "[[ 0.12635332  0.1437065   0.42710535  0.57130691  0.79967369  0.2796757\n",
      "   0.88978325  0.96634261  0.5848463   0.93878284]\n",
      " [ 0.98619693  0.24475692  0.06196604  0.98140571  0.53745133  0.06144683\n",
      "   0.75920925  0.40806801  0.34002924  0.4169732 ]\n",
      " [ 0.26160428  0.92184552  0.8192104   0.76497187  0.19494703  0.98615393\n",
      "   0.48611916  0.7932948   0.05378206  0.37214504]\n",
      " [ 0.39473715  0.49450867  0.8189834   0.18905803  0.25863984  0.62130828\n",
      "   0.25240559  0.8695379   0.01984054  0.14436209]\n",
      " [ 0.22476143  0.06409294  0.71534047  0.16976783  0.66063284  0.28926756\n",
      "   0.94341182  0.91034586  0.04582831  0.69444938]\n",
      " [ 0.631449    0.81498447  0.27249638  0.47660423  0.83265547  0.58083069\n",
      "   0.87313052  0.94497742  0.81055471  0.61381408]\n",
      " [ 0.39156815  0.4007198   0.08773852  0.77864693  0.6237505   0.16652942\n",
      "   0.84485534  0.16163743  0.23379942  0.39860726]\n",
      " [ 0.31150567  0.28137114  0.64070258  0.78191462  0.06497921  0.16587213\n",
      "   0.05764019  0.4662625   0.64892806  0.07198279]\n",
      " [ 0.48688394  0.43497377  0.07154164  0.50491491  0.2810316   0.77044467\n",
      "   0.61781666  0.52164922  0.85810184  0.25490995]\n",
      " [ 0.36877646  0.582961    0.13066192  0.49975211  0.98108182  0.79789392\n",
      "   0.64816161  0.47525753  0.05508825  0.7387258 ]]\n"
     ]
    }
   ],
   "source": [
    "# random arrays\n",
    "rd = np.random.random((10, 10))\n",
    "print(rd)"
   ]
  },
  {
   "cell_type": "code",
   "execution_count": 76,
   "metadata": {},
   "outputs": [
    {
     "name": "stdout",
     "output_type": "stream",
     "text": [
      "[[12 36 23 20]\n",
      " [22 24 38 23]\n",
      " [39 24 33 22]\n",
      " [32 34 30 29]]\n"
     ]
    }
   ],
   "source": [
    "# random ints\n",
    "ri = np.random.randint(10, 40,(4,4))\n",
    "print(ri)"
   ]
  },
  {
   "cell_type": "code",
   "execution_count": 77,
   "metadata": {},
   "outputs": [
    {
     "name": "stdout",
     "output_type": "stream",
     "text": [
      "[[-0.04940448  0.1218179   0.00639089 ...,  0.08863033 -0.13671299\n",
      "   0.04431478]\n",
      " [-0.13221902  0.13624765 -0.15122393 ...,  0.07695119  0.02064121\n",
      "   0.16556368]\n",
      " [ 0.11899288  0.06604737 -0.08028968 ..., -0.05663345 -0.0336464\n",
      "   0.00380134]\n",
      " ..., \n",
      " [-0.00420346  0.02824846 -0.12873387 ...,  0.0341942   0.14047198\n",
      "   0.17058198]\n",
      " [-0.06728304  0.22022851 -0.09006495 ...,  0.11693577  0.08345311\n",
      "   0.19329596]\n",
      " [ 0.0543925  -0.02607321  0.01987511 ..., -0.12278481  0.06220996\n",
      "   0.0435084 ]]\n"
     ]
    }
   ],
   "source": [
    "# ranodom normal distributed array\n",
    "n = np.random.normal(0, 0.1, size=(100,100))\n",
    "print(n)"
   ]
  }
 ],
 "metadata": {
  "kernelspec": {
   "display_name": "Python 3",
   "language": "python",
   "name": "python3"
  },
  "language_info": {
   "codemirror_mode": {
    "name": "ipython",
    "version": 3
   },
   "file_extension": ".py",
   "mimetype": "text/x-python",
   "name": "python",
   "nbconvert_exporter": "python",
   "pygments_lexer": "ipython3",
   "version": "3.6.8"
  }
 },
 "nbformat": 4,
 "nbformat_minor": 2
}
