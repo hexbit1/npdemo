{
 "cells": [
  {
   "cell_type": "markdown",
   "metadata": {},
   "source": [
    "## Key Points\n",
    "- Assigning a sliced value of an array does not create a new obj, but only a refrence to part of it.\n",
    "- To copy need to use copy() function"
   ]
  },
  {
   "cell_type": "code",
   "execution_count": 1,
   "metadata": {},
   "outputs": [],
   "source": [
    "import numpy as np"
   ]
  },
  {
   "cell_type": "code",
   "execution_count": 4,
   "metadata": {},
   "outputs": [
    {
     "name": "stdout",
     "output_type": "stream",
     "text": [
      "[[   10    20    30    40    50]\n",
      " [  100   200   300   400   500]\n",
      " [ 1000  2000  3000  4000  5000]\n",
      " [10000 20000 30000 40000 50000]]\n"
     ]
    }
   ],
   "source": [
    "d = np.array([[10,20,30,40,50], [100,200,300,400,500], [1000,2000,3000,4000,5000], [10000,20000,30000,40000,50000]])\n",
    "print(d)"
   ]
  },
  {
   "cell_type": "code",
   "execution_count": 6,
   "metadata": {},
   "outputs": [
    {
     "name": "stdout",
     "output_type": "stream",
     "text": [
      "[[  300   400   500]\n",
      " [ 3000  4000  5000]\n",
      " [30000 40000 50000]]\n"
     ]
    }
   ],
   "source": [
    "z = d[1:,2:]\n",
    "print(z)"
   ]
  },
  {
   "cell_type": "code",
   "execution_count": 8,
   "metadata": {},
   "outputs": [
    {
     "name": "stdout",
     "output_type": "stream",
     "text": [
      "[[ 0  1  2  3  4]\n",
      " [ 5  6  7  8  9]\n",
      " [10 11 12 13 14]\n",
      " [15 16 17 18 19]]\n"
     ]
    }
   ],
   "source": [
    "d2 = np.arange(20).reshape(4,5)\n",
    "print(d2)"
   ]
  },
  {
   "cell_type": "code",
   "execution_count": 11,
   "metadata": {},
   "outputs": [
    {
     "name": "stdout",
     "output_type": "stream",
     "text": [
      "[[  10   20   30]\n",
      " [ 100  200  300]\n",
      " [1000 2000 3000]]\n"
     ]
    }
   ],
   "source": [
    "x = d[:3,:3]\n",
    "print(x)"
   ]
  },
  {
   "cell_type": "code",
   "execution_count": 13,
   "metadata": {},
   "outputs": [
    {
     "name": "stdout",
     "output_type": "stream",
     "text": [
      "[1000 2000 3000 4000 5000]\n"
     ]
    }
   ],
   "source": [
    "y = d[2, :]\n",
    "print(y)"
   ]
  },
  {
   "cell_type": "code",
   "execution_count": 16,
   "metadata": {},
   "outputs": [
    {
     "name": "stdout",
     "output_type": "stream",
     "text": [
      "[[   10    20    30    40    50]\n",
      " [  100   200   300   400   500]\n",
      " [ 1000  2000  3000  4000  5000]\n",
      " [10000 20000 30000 40000 50000]]\n",
      "[   40   400  4000 40000]\n"
     ]
    }
   ],
   "source": [
    "print(d)\n",
    "x = d[:,3] # For this is get a one dimensinal (rank 1) array\n",
    "print(x)"
   ]
  },
  {
   "cell_type": "code",
   "execution_count": 18,
   "metadata": {},
   "outputs": [
    {
     "name": "stdout",
     "output_type": "stream",
     "text": [
      "[[   40]\n",
      " [  400]\n",
      " [ 4000]\n",
      " [40000]]\n"
     ]
    }
   ],
   "source": [
    "#To get rank 2 for the above\n",
    "x = d[:, 3:4]\n",
    "print(x)"
   ]
  },
  {
   "cell_type": "code",
   "execution_count": 19,
   "metadata": {},
   "outputs": [
    {
     "name": "stdout",
     "output_type": "stream",
     "text": [
      "[[   10    20    30    40    50]\n",
      " [  100   200   300   400   500]\n",
      " [ 1000  2000  3000  4000  5000]\n",
      " [10000 20000 30000 40000 50000]]\n"
     ]
    }
   ],
   "source": [
    "print(d)"
   ]
  },
  {
   "cell_type": "code",
   "execution_count": 22,
   "metadata": {},
   "outputs": [
    {
     "name": "stdout",
     "output_type": "stream",
     "text": [
      "[[   30    50]\n",
      " [  300   500]\n",
      " [ 3000  5000]\n",
      " [30000 50000]]\n"
     ]
    }
   ],
   "source": [
    "# Getting 3rd and 5th row\n",
    "s = np.array([2,4])\n",
    "print(d[:,s])"
   ]
  },
  {
   "cell_type": "code",
   "execution_count": 24,
   "metadata": {},
   "outputs": [
    {
     "name": "stdout",
     "output_type": "stream",
     "text": [
      "[[   10    20    30    40    50]\n",
      " [10000 20000 30000 40000 50000]]\n"
     ]
    }
   ],
   "source": [
    "# Getting 1st and 4 th row\n",
    "s = np.array([0,3])\n",
    "print(d[s,:])"
   ]
  },
  {
   "cell_type": "code",
   "execution_count": 30,
   "metadata": {},
   "outputs": [
    {
     "name": "stdout",
     "output_type": "stream",
     "text": [
      "[   10   200  3000 40000]\n"
     ]
    }
   ],
   "source": [
    "k = np.diag(d)\n",
    "print(k)"
   ]
  },
  {
   "cell_type": "code",
   "execution_count": 33,
   "metadata": {},
   "outputs": [
    {
     "name": "stdout",
     "output_type": "stream",
     "text": [
      "[   20   300  4000 50000]\n",
      "[  100  2000 30000]\n"
     ]
    }
   ],
   "source": [
    "j = np.diag(d, k = 1)\n",
    "print(j)\n",
    "j = np.diag(d, k = -1)\n",
    "print(j)"
   ]
  },
  {
   "cell_type": "code",
   "execution_count": 35,
   "metadata": {},
   "outputs": [
    {
     "name": "stdout",
     "output_type": "stream",
     "text": [
      "[[1 2 3]\n",
      " [5 2 8]\n",
      " [1 2 3]]\n"
     ]
    }
   ],
   "source": [
    "X = np.array([[1,2,3],[5,2,8],[1,2,3]])\n",
    "print(X)"
   ]
  },
  {
   "cell_type": "code",
   "execution_count": 36,
   "metadata": {},
   "outputs": [
    {
     "name": "stdout",
     "output_type": "stream",
     "text": [
      "[1 2 3 5 8]\n"
     ]
    }
   ],
   "source": [
    "print(np.unique(X))"
   ]
  }
 ],
 "metadata": {
  "kernelspec": {
   "display_name": "Python 3",
   "language": "python",
   "name": "python3"
  },
  "language_info": {
   "codemirror_mode": {
    "name": "ipython",
    "version": 3
   },
   "file_extension": ".py",
   "mimetype": "text/x-python",
   "name": "python",
   "nbconvert_exporter": "python",
   "pygments_lexer": "ipython3",
   "version": "3.6.8"
  }
 },
 "nbformat": 4,
 "nbformat_minor": 2
}
